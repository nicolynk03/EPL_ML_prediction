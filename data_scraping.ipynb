{
 "cells": [
  {
   "cell_type": "markdown",
   "id": "33a37175",
   "metadata": {},
   "source": [
    "Web Data Scraping (EPL Football Matches)\n",
    "2021 - 2025\n",
    "\n",
    "Reference List:\n",
    "[Dataquest](https://www.youtube.com/watch?v=Nt7WJa2iu0s)\n",
    "[fbref.com](https://fbref.com/en/comps/9/Premier-League-Stats)"
   ]
  },
  {
   "cell_type": "code",
   "execution_count": 5,
   "id": "623e8557",
   "metadata": {},
   "outputs": [],
   "source": [
    "import requests\n",
    "import cloudscraper\n",
    "import pandas as pd"
   ]
  },
  {
   "cell_type": "code",
   "execution_count": 6,
   "id": "bfba0121",
   "metadata": {},
   "outputs": [
    {
     "name": "stdout",
     "output_type": "stream",
     "text": [
      "<Response [429]>\n"
     ]
    }
   ],
   "source": [
    "standings_url = \"https://fbref.com/en/comps/9/Premier-League-Stats\"\n",
    "scraper = cloudscraper.create_scraper()\n",
    "data = scraper.get(standings_url)\n",
    "print(data)\n",
    "data = scraper.get(standings_url).text"
   ]
  },
  {
   "cell_type": "code",
   "execution_count": null,
   "id": "b092256a",
   "metadata": {},
   "outputs": [],
   "source": [
    "print(data)"
   ]
  },
  {
   "cell_type": "code",
   "execution_count": null,
   "id": "69fe59d9",
   "metadata": {},
   "outputs": [],
   "source": [
    "from bs4 import BeautifulSoup\n",
    "import time"
   ]
  },
  {
   "cell_type": "code",
   "execution_count": null,
   "id": "fc4935fc",
   "metadata": {},
   "outputs": [],
   "source": [
    "soup = BeautifulSoup(data)"
   ]
  },
  {
   "cell_type": "code",
   "execution_count": null,
   "id": "8d0993eb",
   "metadata": {},
   "outputs": [],
   "source": [
    "standings_table = soup.select('table.stats_table')[0]"
   ]
  },
  {
   "cell_type": "code",
   "execution_count": null,
   "id": "cfb945a4",
   "metadata": {},
   "outputs": [],
   "source": [
    "# find all a tags in the table (find_all finds tags)\n",
    "links = standings_table.find_all('a')"
   ]
  },
  {
   "cell_type": "code",
   "execution_count": null,
   "id": "0496ce6d",
   "metadata": {},
   "outputs": [],
   "source": [
    "# get the href property of each link via a list comprehension\n",
    "\n",
    "# go through each a element and find the value of each href property\n",
    "links = [l.get(\"href\") for l in links]\n",
    "\n",
    "# get the squad links only\n",
    "links = [l for l in links if '/squads' in l]\n",
    "print(links)"
   ]
  },
  {
   "cell_type": "code",
   "execution_count": null,
   "id": "061f62ee",
   "metadata": {},
   "outputs": [],
   "source": [
    "# transform links to full URLs\n",
    "team_urls = [f\"https://fbref.com{l}\" for l in links]\n",
    "print(team_urls)"
   ]
  },
  {
   "cell_type": "markdown",
   "id": "004adf09",
   "metadata": {},
   "source": [
    "Extract match stats (pandas and cloudscraper)"
   ]
  },
  {
   "cell_type": "code",
   "execution_count": null,
   "id": "abcdcb37",
   "metadata": {},
   "outputs": [],
   "source": [
    "team_url = team_urls[0]\n",
    "# Liverpool\n",
    "# team_url = team_urls[3]\n",
    "\n",
    "# get the html from team_url\n",
    "data = scraper.get(team_url).text\n",
    "print(data)"
   ]
  },
  {
   "cell_type": "code",
   "execution_count": null,
   "id": "5c0660d9",
   "metadata": {},
   "outputs": [],
   "source": [
    "from io import StringIO\n",
    "\n",
    "matches = pd.read_html(StringIO(data), match=\"Scores & Fixtures\")"
   ]
  },
  {
   "cell_type": "code",
   "execution_count": null,
   "id": "3062fde0",
   "metadata": {},
   "outputs": [],
   "source": [
    "matches[0]"
   ]
  },
  {
   "cell_type": "markdown",
   "id": "cfe89279",
   "metadata": {},
   "source": [
    "Get match shooting stats with cloudscraper and pandas"
   ]
  },
  {
   "cell_type": "code",
   "execution_count": null,
   "id": "91339c92",
   "metadata": {},
   "outputs": [],
   "source": [
    "# find all a tags on the page\n",
    "soup = BeautifulSoup(data)\n",
    "links = soup.find_all('a')"
   ]
  },
  {
   "cell_type": "code",
   "execution_count": null,
   "id": "898560b9",
   "metadata": {},
   "outputs": [],
   "source": [
    "# get the actual URL of the link\n",
    "links = [l.get(\"href\") for l in links]\n",
    "\n",
    "# filter links to get the shooting stats link\n",
    "links = [l for l in links if l and 'all_comps/shooting/' in l]"
   ]
  },
  {
   "cell_type": "code",
   "execution_count": null,
   "id": "5ea23fa5",
   "metadata": {},
   "outputs": [],
   "source": [
    "links"
   ]
  },
  {
   "cell_type": "code",
   "execution_count": null,
   "id": "16bdb4b1",
   "metadata": {},
   "outputs": [],
   "source": [
    "# download data\n",
    "data = scraper.get(f\"https://fbref.com{links[0]}\")"
   ]
  },
  {
   "cell_type": "code",
   "execution_count": null,
   "id": "1023fae5",
   "metadata": {},
   "outputs": [],
   "source": [
    "shooting = pd.read_html(StringIO(data.text), match=\"Shooting\")[0]\n",
    "print(shooting)"
   ]
  },
  {
   "cell_type": "code",
   "execution_count": null,
   "id": "c0b8abb4",
   "metadata": {},
   "outputs": [],
   "source": [
    "shooting.head()"
   ]
  },
  {
   "cell_type": "code",
   "execution_count": null,
   "id": "589d986f",
   "metadata": {},
   "outputs": [],
   "source": [
    "# drop one index level to index based on the heading (drop the top index level)\n",
    "shooting.columns = shooting.columns.droplevel()\n",
    "\n",
    "shooting.head()"
   ]
  },
  {
   "cell_type": "code",
   "execution_count": null,
   "id": "4b2475eb",
   "metadata": {},
   "outputs": [],
   "source": [
    "shooting[\"Date\"]"
   ]
  },
  {
   "cell_type": "code",
   "execution_count": null,
   "id": "2d632131",
   "metadata": {},
   "outputs": [],
   "source": [
    "# merge match and shooting stats dataframes together based on the date\n",
    "team_data = matches[0].merge(shooting[[\"Date\", \"Sh\", \"SoT\", \"Dist\", \"FK\", \"PK\", \"PKatt\"]], on=\"Date\")"
   ]
  },
  {
   "cell_type": "code",
   "execution_count": null,
   "id": "aefac7aa",
   "metadata": {},
   "outputs": [],
   "source": [
    "team_data.head()"
   ]
  },
  {
   "cell_type": "code",
   "execution_count": null,
   "id": "a3f4aad0",
   "metadata": {},
   "outputs": [],
   "source": [
    "team_data"
   ]
  },
  {
   "cell_type": "markdown",
   "id": "15cc4c07",
   "metadata": {},
   "source": [
    "Scraping data for multiple seasons and teams with a for loop"
   ]
  },
  {
   "cell_type": "code",
   "execution_count": null,
   "id": "4383f5f0",
   "metadata": {},
   "outputs": [],
   "source": [
    "# list of target years (going backwards)\n",
    "years = list(range(2025,2020,-1))\n",
    "years"
   ]
  },
  {
   "cell_type": "code",
   "execution_count": null,
   "id": "67b8bc7b",
   "metadata": {},
   "outputs": [],
   "source": [
    "# list to hold DataFrames that contain match logs of each team in a season\n",
    "all_matches = []"
   ]
  },
  {
   "cell_type": "code",
   "execution_count": null,
   "id": "56e2b0f6",
   "metadata": {},
   "outputs": [],
   "source": [
    "import time\n",
    "\n",
    "# find starting URL\n",
    "standings_url = \"https://fbref.com/en/comps/9/Premier-League-Stats\"\n",
    "\n",
    "# loop through all the years\n",
    "for year in years:\n",
    "    data = scraper.get(standings_url).text\n",
    "    # parse with BeautifulSoup\n",
    "    soup = BeautifulSoup(data)\n",
    "\n",
    "    # look for stats_table as it holds individual team links for individual match data of each team\n",
    "    standings_table = soup.select('table.stats_table')[0]\n",
    "    # find all a tags in the table (find_all finds tags)\n",
    "    links = standings_table.find_all('a')\n",
    "\n",
    "    # get the href property of each link via a list comprehension\n",
    "    #  go through each a element and find the value of each href property\n",
    "    links = [l.get(\"href\") for l in links]\n",
    "\n",
    "    #  get the squad links only\n",
    "    links = [l for l in links if '/squads/' in l]  \n",
    "    # transform links to full URLs\n",
    "    team_urls = [f\"https://fbref.com{l}\" for l in links]\n",
    "\n",
    "    # grab URL for the previous season (select the first anchor tag with a prev class)\n",
    "    # and get the href property\n",
    "    previous_season = soup.select(\"a.prev\")[0].get(\"href\")\n",
    "    # convert to an absolute URL\n",
    "    standings_url = f\"https://fbref.com/{previous_season}\"\n",
    "\n",
    "    \n",
    "    # loop through each team URL and individually scrape the match logs of each team\n",
    "    for team_url in team_urls:\n",
    "        # get the team name by splitting by /, remove \"-Stats\" with nothing, and replace \"-\" with space\n",
    "        team_name = team_url.split(\"/\")[-1].replace(\"-Stats\", \"\").replace(\"-\", \" \")\n",
    "\n",
    "        # get the team URL\n",
    "        data = scraper.get(team_url)\n",
    "        matches = pd.read_html(StringIO(data.text), match=\"Scores & Fixtures\")[0]\n",
    "\n",
    "        # find all a tags on the page\n",
    "        soup = BeautifulSoup(data.text)\n",
    "        # get the actual URL of the link\n",
    "        links = [l.get(\"href\") for l in soup.find_all('a')]\n",
    "        # filter links to get the shooting stats link\n",
    "        links = [l for l in links if l and 'all_comps/shooting/' in l]\n",
    "\n",
    "        if not links:  # no shooting link -> skip\n",
    "            continue\n",
    "\n",
    "        # download data\n",
    "        data = scraper.get(f\"https://fbref.com{links[0]}\")\n",
    "\n",
    "        # try to read Shooting table stats safely\n",
    "        try:\n",
    "            shooting = pd.read_html(StringIO(data.text), match=\"Shooting\")[0]\n",
    "        except ValueError:\n",
    "            # no Shooting stats found -> skip\n",
    "            continue\n",
    "\n",
    "        # drop one index level to index based on the heading (drop the top index level)\n",
    "        shooting.columns = shooting.columns.droplevel()\n",
    "\n",
    "        # merge Shooting and Match stats tables\n",
    "        # merge available Shooting statas with Match stats of a certain team, skip team if Shooting data is unavailable\n",
    "        try:\n",
    "            team_data = matches.merge(shooting[[\"Date\", \"Sh\", \"SoT\", \"Dist\", \"FK\", \"PK\", \"PKatt\"]], on=\"Date\")\n",
    "        except ValueError:\n",
    "            continue\n",
    "\n",
    "        # filter so that it only has Premier League matches\n",
    "        team_data = team_data[team_data[\"Comp\"] == \"Premier League\"]\n",
    "        # add a Season column to distinguish the season\n",
    "        team_data[\"Season\"] = year\n",
    "        # add a Team column to distinguish the team\n",
    "        team_data[\"Team\"] = team_name\n",
    "\n",
    "        # save it to all_matches list\n",
    "        all_matches.append(team_data)\n",
    "\n",
    "        # sleep for 1 second to reduce scrape speed (to prevent from being blocked dueo to too many requests)\n",
    "        time.sleep(15)\n"
   ]
  },
  {
   "cell_type": "code",
   "execution_count": null,
   "id": "188e6996",
   "metadata": {},
   "outputs": [],
   "source": [
    "# combine all individual DataFrames into one\n",
    "# concat func. takes a list of DataFrames as input and return a DataFrame\n",
    "match_df =  pd.concat(all_matches)\n",
    "# ensure all column names are lower case\n",
    "match_df.columns = [c.lower() for c in match_df.columns]\n",
    "\n",
    "# write to csv (matches.csv)\n",
    "match_df.to_csv(\"matches.csv\")"
   ]
  }
 ],
 "metadata": {
  "kernelspec": {
   "display_name": "Python 3",
   "language": "python",
   "name": "python3"
  },
  "language_info": {
   "codemirror_mode": {
    "name": "ipython",
    "version": 3
   },
   "file_extension": ".py",
   "mimetype": "text/x-python",
   "name": "python",
   "nbconvert_exporter": "python",
   "pygments_lexer": "ipython3",
   "version": "3.12.6"
  }
 },
 "nbformat": 4,
 "nbformat_minor": 5
}
